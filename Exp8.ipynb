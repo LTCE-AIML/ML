{
  "nbformat": 4,
  "nbformat_minor": 0,
  "metadata": {
    "colab": {
      "provenance": []
    },
    "kernelspec": {
      "name": "python3",
      "display_name": "Python 3"
    },
    "language_info": {
      "name": "python"
    }
  },
  "cells": [
    {
      "cell_type": "code",
      "source": [
        "def mcp_gate(x1, x2=0, gate=\"AND\"):\n",
        "    if gate == \"AND\":\n",
        "        weights = [1, 1]\n",
        "        threshold = 2\n",
        "    elif gate == \"OR\":\n",
        "        weights = [1, 1]\n",
        "        threshold = 1\n",
        "    elif gate == \"NAND\":\n",
        "        weights = [-1, -1]\n",
        "        threshold = -1\n",
        "    elif gate == \"NOR\":\n",
        "        weights = [-1, -1]\n",
        "        threshold = 0\n",
        "    elif gate == \"XOR\":\n",
        "        # XOR can't be implemented by single MCP neuron\n",
        "        return int((x1 or x2) and not (x1 and x2))\n",
        "    elif gate == \"NOT\":\n",
        "        weights = [-1]\n",
        "        threshold = 0\n",
        "        weighted_sum = x1 * weights[0]\n",
        "        return int(weighted_sum >= threshold)\n",
        "    else:\n",
        "        raise ValueError(\"Unknown gate type\")\n",
        "\n",
        "    # For 2-input gates\n",
        "    weighted_sum = (x1 * weights[0]) + (x2 * weights[1])\n",
        "    return int(weighted_sum >= threshold)\n",
        "\n",
        "# Define all gates and inputs\n",
        "gates = [\"AND\", \"OR\", \"NAND\", \"NOR\", \"XOR\"]\n",
        "inputs = [(0, 0), (0, 1), (1, 0), (1, 1)]\n",
        "\n",
        "print(\"McCulloch-Pitts Logic Gates Output:\\n\")\n",
        "for gate in gates:\n",
        "    print(f\"{gate} Gate:\")\n",
        "    for x1, x2 in inputs:\n",
        "        output = mcp_gate(x1, x2, gate)\n",
        "        print(f\"  Inputs: ({x1}, {x2}) -> Output: {output}\")\n",
        "    print()\n",
        "\n",
        "# NOT gate is single-input\n",
        "print(\"NOT Gate:\")\n",
        "for x in [0, 1]:\n",
        "    output = mcp_gate(x, gate=\"NOT\")\n",
        "    print(f\"  Input: {x} -> Output: {output}\")"
      ],
      "metadata": {
        "colab": {
          "base_uri": "https://localhost:8080/"
        },
        "id": "BCHznCGyDNL6",
        "outputId": "933451ca-2ffc-4332-be2e-2fd3d303087f"
      },
      "execution_count": 20,
      "outputs": [
        {
          "output_type": "stream",
          "name": "stdout",
          "text": [
            "McCulloch-Pitts Logic Gates Output:\n",
            "\n",
            "AND Gate:\n",
            "  Inputs: (0, 0) -> Output: 0\n",
            "  Inputs: (0, 1) -> Output: 0\n",
            "  Inputs: (1, 0) -> Output: 0\n",
            "  Inputs: (1, 1) -> Output: 1\n",
            "\n",
            "OR Gate:\n",
            "  Inputs: (0, 0) -> Output: 0\n",
            "  Inputs: (0, 1) -> Output: 1\n",
            "  Inputs: (1, 0) -> Output: 1\n",
            "  Inputs: (1, 1) -> Output: 1\n",
            "\n",
            "NAND Gate:\n",
            "  Inputs: (0, 0) -> Output: 1\n",
            "  Inputs: (0, 1) -> Output: 1\n",
            "  Inputs: (1, 0) -> Output: 1\n",
            "  Inputs: (1, 1) -> Output: 0\n",
            "\n",
            "NOR Gate:\n",
            "  Inputs: (0, 0) -> Output: 1\n",
            "  Inputs: (0, 1) -> Output: 0\n",
            "  Inputs: (1, 0) -> Output: 0\n",
            "  Inputs: (1, 1) -> Output: 0\n",
            "\n",
            "XOR Gate:\n",
            "  Inputs: (0, 0) -> Output: 0\n",
            "  Inputs: (0, 1) -> Output: 1\n",
            "  Inputs: (1, 0) -> Output: 1\n",
            "  Inputs: (1, 1) -> Output: 0\n",
            "\n",
            "NOT Gate:\n",
            "  Input: 0 -> Output: 1\n",
            "  Input: 1 -> Output: 0\n"
          ]
        }
      ]
    }
  ]
}