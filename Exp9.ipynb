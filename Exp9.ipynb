{
  "nbformat": 4,
  "nbformat_minor": 0,
  "metadata": {
    "colab": {
      "provenance": []
    },
    "kernelspec": {
      "name": "python3",
      "display_name": "Python 3"
    },
    "language_info": {
      "name": "python"
    }
  },
  "cells": [
    {
      "cell_type": "code",
      "source": [
        "import numpy as np\n",
        "\n",
        "# Step function (Activation function)\n",
        "def step_function(x):\n",
        "    if x >= 0:\n",
        "        return 1\n",
        "    else:\n",
        "        return 0\n",
        "\n",
        "# Perceptron learning algorithm\n",
        "def perceptron_learning(X, y, lr=0.1, epochs=10):\n",
        "    weights = np.zeros(X.shape[1])  # Initialize weights as 0\n",
        "    bias = 0  # Bias term\n",
        "\n",
        "    print(\"Epoch | Weights          | Bias\")\n",
        "    print(\"-------------------------------\")\n",
        "\n",
        "    for epoch in range(epochs):\n",
        "        for i in range(len(X)):\n",
        "            weighted_sum = np.dot(X[i], weights) + bias\n",
        "            y_pred = step_function(weighted_sum)\n",
        "\n",
        "            # Weight update rule\n",
        "            error = y[i] - y_pred\n",
        "            weights += lr * error * X[i]\n",
        "            bias += lr * error  # Update bias\n",
        "\n",
        "        # Print weights and bias after each epoch\n",
        "        print(f\"{epoch + 1:<5} | {weights} | {bias}\")\n",
        "\n",
        "    return weights, bias\n",
        "\n",
        "# Training data for OR gate\n",
        "X = np.array([[0, 0],\n",
        "              [0, 1],\n",
        "              [1, 0],\n",
        "              [1, 1]])  # Inputs\n",
        "\n",
        "y = np.array([0, 1, 1, 1])  # OR gate output\n",
        "\n",
        "# Train perceptron\n",
        "weights, bias = perceptron_learning(X, y)\n",
        "\n",
        "# Test perceptron\n",
        "print(\"\\nTesting Perceptron on OR Gate:\")\n",
        "for x in X:\n",
        "    output = step_function(np.dot(x, weights) + bias)\n",
        "    print(f\"Input: {x} -> Output: {output}\")"
      ],
      "metadata": {
        "colab": {
          "base_uri": "https://localhost:8080/"
        },
        "id": "BCHznCGyDNL6",
        "outputId": "88f35fc9-0efa-4584-d6ad-3eef1f3c2df1"
      },
      "execution_count": 21,
      "outputs": [
        {
          "output_type": "stream",
          "name": "stdout",
          "text": [
            "Epoch | Weights          | Bias\n",
            "-------------------------------\n",
            "1     | [0.  0.1] | 0.0\n",
            "2     | [0.1 0.1] | 0.0\n",
            "3     | [0.1 0.1] | -0.1\n",
            "4     | [0.1 0.1] | -0.1\n",
            "5     | [0.1 0.1] | -0.1\n",
            "6     | [0.1 0.1] | -0.1\n",
            "7     | [0.1 0.1] | -0.1\n",
            "8     | [0.1 0.1] | -0.1\n",
            "9     | [0.1 0.1] | -0.1\n",
            "10    | [0.1 0.1] | -0.1\n",
            "\n",
            "Testing Perceptron on OR Gate:\n",
            "Input: [0 0] -> Output: 0\n",
            "Input: [0 1] -> Output: 1\n",
            "Input: [1 0] -> Output: 1\n",
            "Input: [1 1] -> Output: 1\n"
          ]
        }
      ]
    }
  ]
}